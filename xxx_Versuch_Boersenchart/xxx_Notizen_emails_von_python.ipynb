{
 "cells": [
  {
   "cell_type": "markdown",
   "metadata": {},
   "source": [
    "https://realpython.com/python-send-email/"
   ]
  },
  {
   "cell_type": "code",
   "execution_count": null,
   "metadata": {},
   "outputs": [],
   "source": []
  },
  {
   "cell_type": "code",
   "execution_count": null,
   "metadata": {},
   "outputs": [],
   "source": []
  },
  {
   "cell_type": "markdown",
   "metadata": {},
   "source": [
    "https://stackoverflow.com/questions/48019851/sending-email-from-python"
   ]
  },
  {
   "cell_type": "code",
   "execution_count": null,
   "metadata": {},
   "outputs": [],
   "source": [
    "import smtplib \n",
    "import email\n",
    "from email.MIMEMultipart import MIMEMultipart\n",
    "from email.Utils import COMMASPACE\n",
    "from email.MIMEBase import MIMEBase\n",
    "from email.parser import Parser\n",
    "from email.MIMEImage import MIMEImage\n",
    "from email.MIMEText import MIMEText\n",
    "from email.MIMEAudio import MIMEAudio\n",
    "import mimetypes\n",
    "\n",
    "def send(user, password, fromaddr, to, subject, body):\n",
    "smtp_host = 'smtp.gmail.com'\n",
    "smtp_port = 587\n",
    "server = smtplib.SMTP()\n",
    "server.connect(smtp_host,smtp_port)\n",
    "server.ehlo()\n",
    "server.starttls()\n",
    "server.login(user, password)\n",
    "\n",
    "msg = email.MIMEMultipart.MIMEMultipart()\n",
    "msg['From'] = fromaddr\n",
    "msg['To'] = email.Utils.COMMASPACE.join(to)\n",
    "msg['Subject'] = subject\n",
    "msg.attach(MIMEText(body))\n",
    "server.sendmail(user,to,msg.as_string())"
   ]
  },
  {
   "cell_type": "markdown",
   "metadata": {},
   "source": []
  },
  {
   "cell_type": "markdown",
   "metadata": {},
   "source": [
    "https://stackoverflow.com/questions/39487103/how-to-send-email-from-python"
   ]
  },
  {
   "cell_type": "code",
   "execution_count": null,
   "metadata": {},
   "outputs": [],
   "source": [
    "import socket\n",
    "import sys\n",
    "import smtplib\n",
    "EMAIL_TO = [\"rajiv@domain.com\"]\n",
    "EMAIL_FROM = \"rajiv@domain.com\"\n",
    "EMAIL_SUBJECT = \"Test Mail... \"\n",
    "msg= {}\n",
    "EMAIL_SPACE = \", \"\n",
    "\n",
    "\n",
    "\n",
    "msg['Subject'] = EMAIL_SUBJECT \n",
    "msg['To'] = EMAIL_SPACE.join(EMAIL_TO)\n",
    "msg['From'] = EMAIL_FROM\n",
    "try:\n",
    "    mail = smtplib.SMTP_SSL('smtp.bizmail.yahoo.com',465)\n",
    "    # \n",
    "    # if you are using gmail then  use\n",
    "    #   smtplib.SMTP_SSL('smtp.gmail.com',587)\n",
    "    #\n",
    "    mail.login(\"rajiv@domain.com\", 'password')   # you account email password..\n",
    "    mail.sendmail(\"rajiv@domain.com\", EMAIL_TO, msg.as_string())   \n",
    "    mail.quit()\n",
    "except Exception,e:\n",
    "    print e\n",
    "finally:\n",
    "    print \"Error of email sending mail\""
   ]
  },
  {
   "cell_type": "code",
   "execution_count": null,
   "metadata": {},
   "outputs": [],
   "source": []
  },
  {
   "cell_type": "markdown",
   "metadata": {},
   "source": [
    "Yagmail\n",
    "There are multiple libraries designed to make sending emails easier, such as Envelopes, Flanker and Yagmail. Yagmail is designed to work specifically with Gmail, and it greatly simplifies the process of sending emails through a friendly API, as you can see in the code example below:"
   ]
  },
  {
   "cell_type": "code",
   "execution_count": null,
   "metadata": {},
   "outputs": [],
   "source": [
    "import yagmail\n",
    "\n",
    "receiver = \"your@gmail.com\"\n",
    "body = \"Hello there from Yagmail\"\n",
    "filename = \"document.pdf\"\n",
    "\n",
    "yag = yagmail.SMTP(\"my@gmail.com\")\n",
    "yag.send(\n",
    "    to=receiver,\n",
    "    subject=\"Yagmail test with attachment\",\n",
    "    contents=body, \n",
    "    attachments=filename,\n",
    ")"
   ]
  },
  {
   "cell_type": "code",
   "execution_count": null,
   "metadata": {},
   "outputs": [],
   "source": []
  },
  {
   "cell_type": "markdown",
   "metadata": {},
   "source": [
    "Transactional Email Services\n",
    "If you plan to send a large volume of emails, want to see email statistics, and want to ensure reliable delivery, it may be worth looking into transactional email services. Although all of the following services have paid plans for sending large volumes of emails, they also come with a free plan so you can try them out. Some of these free plans are valid indefinitely and may be sufficient for your email needs.\n",
    "\n",
    "Below is an overview of the free plans for some of the major transactional email services. Clicking on the provider name will take you to the pricing section of their website.\n",
    "\n",
    "Provider\tFree plan\n",
    "Sendgrid\t40,000 emails for your first 30 days, then 100/day\n",
    "Sendinblue\t300 emails/day\n",
    "Mailgun\tFirst 10,000 emails free\n",
    "Mailjet\t200 emails/day\n",
    "Amazon SES\t62,000 emails/month\n",
    "You can run a Google search to see which provider best fits your needs, or just try out a few of the free plans to see which API you like working with most."
   ]
  },
  {
   "cell_type": "markdown",
   "metadata": {},
   "source": [
    "Sendgrid Code Example\n",
    "Here’s a code example for sending emails with Sendgrid to give you a flavor of how to use a transactional email service with Python:"
   ]
  },
  {
   "cell_type": "code",
   "execution_count": null,
   "metadata": {},
   "outputs": [],
   "source": [
    "import os\n",
    "import sendgrid\n",
    "from sendgrid.helpers.mail import Content, Email, Mail\n",
    "\n",
    "sg = sendgrid.SendGridAPIClient(\n",
    "    apikey=os.environ.get(\"SENDGRID_API_KEY\")\n",
    ")\n",
    "from_email = Email(\"my@gmail.com\")\n",
    "to_email = Email(\"your@gmail.com\")\n",
    "subject = \"A test email from Sendgrid\"\n",
    "content = Content(\n",
    "    \"text/plain\", \"Here's a test email sent through Python\"\n",
    ")\n",
    "mail = Mail(from_email, subject, to_email, content)\n",
    "response = sg.client.mail.send.post(request_body=mail.get())\n",
    "\n",
    "# The statements below can be included for debugging purposes\n",
    "print(response.status_code)\n",
    "print(response.body)\n",
    "print(response.headers)"
   ]
  },
  {
   "cell_type": "markdown",
   "metadata": {},
   "source": [
    "To run this code, you must first:\n",
    "\n",
    "Sign up for a (free) Sendgrid account\n",
    "Request an API key for user validation\n",
    "Add your API key by typing setx SENDGRID_API_KEY \"YOUR_API_KEY\" in Command Prompt (to store this API key permanently) or set SENDGRID_API_KEY YOUR_API_KEY to store it only for the current client session\n",
    "More information on how to set up Sendgrid for Mac and Windows can be found in the repository’s README on Github."
   ]
  },
  {
   "cell_type": "code",
   "execution_count": null,
   "metadata": {},
   "outputs": [],
   "source": []
  }
 ],
 "metadata": {
  "kernelspec": {
   "display_name": "Python 3",
   "language": "python",
   "name": "python3"
  },
  "language_info": {
   "codemirror_mode": {
    "name": "ipython",
    "version": 3
   },
   "file_extension": ".py",
   "mimetype": "text/x-python",
   "name": "python",
   "nbconvert_exporter": "python",
   "pygments_lexer": "ipython3",
   "version": "3.7.3"
  }
 },
 "nbformat": 4,
 "nbformat_minor": 2
}
